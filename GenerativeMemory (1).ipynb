{
 "cells": [
  {
   "cell_type": "code",
   "execution_count": 3,
   "id": "4af1fdf4-f966-4b11-84c8-7ec67f14b078",
   "metadata": {},
   "outputs": [
    {
     "name": "stderr",
     "output_type": "stream",
     "text": [
      "\u001b[32m\u001b[1m  Activating\u001b[22m\u001b[39m project at `~/psyc261`\n",
      "\u001b[32m\u001b[1m   Resolving\u001b[22m\u001b[39m package versions...\n",
      "\u001b[32m\u001b[1m  No Changes\u001b[22m\u001b[39m to `~/psyc261/Project.toml`\n",
      "\u001b[32m\u001b[1m  No Changes\u001b[22m\u001b[39m to `~/psyc261/Manifest.toml`\n",
      "\u001b[36m\u001b[1m[ \u001b[22m\u001b[39m\u001b[36m\u001b[1mInfo: \u001b[22m\u001b[39mDownloading miniconda installer ...\n"
     ]
    },
    {
     "name": "stdout",
     "output_type": "stream",
     "text": [
      "PREFIX=/opt/julia/conda/3/x86_64\n"
     ]
    },
    {
     "name": "stderr",
     "output_type": "stream",
     "text": [
      "\u001b[36m\u001b[1m[ \u001b[22m\u001b[39m\u001b[36m\u001b[1mInfo: \u001b[22m\u001b[39mInstalling miniconda ...\n",
      "/tmp/installer.sh: 302: cannot create /opt/julia/conda/3/x86_64/conda.exe: Permission denied\n"
     ]
    },
    {
     "ename": "LoadError",
     "evalue": "failed process: Process(`\u001b[4m/tmp/installer.sh\u001b[24m \u001b[4m-b\u001b[24m \u001b[4m-f\u001b[24m \u001b[4m-p\u001b[24m \u001b[4m/opt/julia/conda/3/x86_64\u001b[24m`, ProcessExited(2)) [2]\n",
     "output_type": "error",
     "traceback": [
      "failed process: Process(`\u001b[4m/tmp/installer.sh\u001b[24m \u001b[4m-b\u001b[24m \u001b[4m-f\u001b[24m \u001b[4m-p\u001b[24m \u001b[4m/opt/julia/conda/3/x86_64\u001b[24m`, ProcessExited(2)) [2]\n",
      "",
      "Stacktrace:",
      " [1] pipeline_error",
      "   @ ./process.jl:565 [inlined]",
      " [2] run(::Cmd; wait::Bool)",
      "   @ Base ./process.jl:480",
      " [3] run",
      "   @ ./process.jl:477 [inlined]",
      " [4] _install_conda(env::String, force::Bool)",
      "   @ Conda /opt/julia/packages/Conda/sDjAP/src/Conda.jl:304",
      " [5] _install_conda(env::String)",
      "   @ Conda /opt/julia/packages/Conda/sDjAP/src/Conda.jl:270",
      " [6] runconda(args::Cmd, env::String)",
      "   @ Conda /opt/julia/packages/Conda/sDjAP/src/Conda.jl:180",
      " [7] pip_interop",
      "   @ /opt/julia/packages/Conda/sDjAP/src/Conda.jl:622 [inlined]",
      " [8] pip_interop(enabled::Bool)",
      "   @ Conda /opt/julia/packages/Conda/sDjAP/src/Conda.jl:622",
      " [9] top-level scope",
      "   @ In[3]:5"
     ]
    }
   ],
   "source": [
    "using Pkg\n",
    "Pkg.activate(\"psyc261\")\n",
    "Pkg.add(\"Conda\")\n",
    "using Conda\n",
    "Conda.pip_interop(true)  # This allows Conda to use `pip`\n",
    "Conda.pip(\"install\", \"mitsuba\")\n",
    "Conda.add(\"numpy\")\n",
    "\n",
    "Pkg.add([\"Distributions\", \"ProgressMeter\", \"Parameters\", \"JLD2\"])\n",
    "using JLD2\n",
    "using Distributions\n",
    "using ProgressMeter\n",
    "using Parameters\n",
    "using Random\n",
    "using Gen, Plots\n",
    "using PyCall\n",
    "np = pyimport(\"numpy\")\n",
    "# to resize images (without any external packages)\n",
    "include(\"utils/imageresize.jl\");\n",
    "# truncated normal \n",
    "include(\"utils/truncatednorm.jl\")"
   ]
  },
  {
   "cell_type": "markdown",
   "id": "98833272-e267-4f02-9699-30fa05996164",
   "metadata": {},
   "source": [
    "## Mitsuba Setup ##"
   ]
  },
  {
   "cell_type": "markdown",
   "id": "632b1849-c44b-470e-8571-166c91ab613e",
   "metadata": {},
   "source": [
    "## Generating Training Images ##"
   ]
  },
  {
   "cell_type": "markdown",
   "id": "e03abd19-ce9c-4c1e-bcff-932d1d3bd5f6",
   "metadata": {},
   "source": [
    "## Inference of Latent Parameters for Images -- One-Shot Latents of Shape 3D Memories ##"
   ]
  },
  {
   "cell_type": "code",
   "execution_count": 2,
   "id": "bf45f193-6492-4c1f-ad62-52daed039687",
   "metadata": {},
   "outputs": [
    {
     "ename": "LoadError",
     "evalue": "LoadError: UndefVarError: `@with_kw` not defined\nin expression starting at In[2]:1",
     "output_type": "error",
     "traceback": [
      "LoadError: UndefVarError: `@with_kw` not defined\nin expression starting at In[2]:1",
      ""
     ]
    }
   ],
   "source": [
    "#load dataset\n",
    "py\"dataset = h5py.File('3dshapes.h5', 'r')\n",
    "print(dataset.keys())\n",
    "images = dataset['images']  # array shape [480000,64,64,3], uint8 in range(256)\n",
    "labels = dataset['labels']  # array shape [480000,6], float64\n",
    "image_shape = images.shape[1:]  # [64,64,3]\n",
    "label_shape = labels.shape[1:]  # [6]\n",
    "n_samples = labels.shape[0]  # 10*10*10*8*4*15=480000\n",
    "\n",
    "_FACTORS_IN_ORDER = ['floor_hue', 'wall_hue', 'object_hue', 'scale', 'shape',\n",
    "                     'orientation']\n",
    "_NUM_VALUES_PER_FACTOR = {'floor_hue': 10, 'wall_hue': 10, 'object_hue': 10, \n",
    "                          'scale': 8, 'shape': 4, 'orientation': 15}\"\n",
    "\n",
    "\n",
    "py\"def show_images_grid(imgs_, num_images=25):\n",
    "  ncols = int(np.ceil(num_images**0.5))\n",
    "  nrows = int(np.ceil(num_images / ncols))\n",
    "  _, axes = plt.subplots(ncols, nrows, figsize=(nrows * 3, ncols * 3))\n",
    "  axes = axes.flatten()\n",
    "\n",
    "  for ax_i, ax in enumerate(axes):\n",
    "    if ax_i < num_images:\n",
    "      ax.imshow(imgs_[ax_i], cmap='Greys_r', interpolation='nearest')\n",
    "      ax.set_xticks([])\n",
    "      ax.set_yticks([])\n",
    "    else:\n",
    "      ax.axis('off')\""
   ]
  },
  {
   "cell_type": "code",
   "execution_count": 2,
   "id": "51f8cdfd-e4f6-4b72-af5c-b81c62e60556",
   "metadata": {},
   "outputs": [
    {
     "ename": "LoadError",
     "evalue": "LoadError: UndefVarError: `@with_kw` not defined\nin expression starting at In[2]:1",
     "output_type": "error",
     "traceback": [
      "LoadError: UndefVarError: `@with_kw` not defined\nin expression starting at In[2]:1",
      ""
     ]
    }
   ],
   "source": [
    "@gen function shape3d()\n",
    "    #Priors\n",
    "    floor hue ~ uniform(0, 1)\n",
    "    wall hue ~ uniform(0, 1)\n",
    "    object hue ~ uniform(0, 1)\n",
    "    scale ~ uniform(0, 1)\n",
    "    shape ~ draw([0, 1, 2, 3])\n",
    "\n",
    "    #Likelihood\n",
    "    pred ~ broadcasted_normal(mu, 1.0)\n",
    "\n",
    "end\n",
    ";"
   ]
  },
  {
   "cell_type": "code",
   "execution_count": 2,
   "id": "ed8cdb2b-5650-43ae-b48b-3e28eaeafe4a",
   "metadata": {},
   "outputs": [
    {
     "ename": "LoadError",
     "evalue": "LoadError: UndefVarError: `@with_kw` not defined\nin expression starting at In[2]:1",
     "output_type": "error",
     "traceback": [
      "LoadError: UndefVarError: `@with_kw` not defined\nin expression starting at In[2]:1",
      ""
     ]
    }
   ],
   "source": [
    "#not sure what proposal distribution should be \n",
    "function proposal(tr)\n",
    "   ##\n",
    "end"
   ]
  },
  {
   "cell_type": "code",
   "execution_count": 2,
   "id": "140b732f-dc04-4914-b1b8-37fd798ef8a1",
   "metadata": {},
   "outputs": [
    {
     "ename": "LoadError",
     "evalue": "LoadError: UndefVarError: `@with_kw` not defined\nin expression starting at In[2]:1",
     "output_type": "error",
     "traceback": [
      "LoadError: UndefVarError: `@with_kw` not defined\nin expression starting at In[2]:1",
      ""
     ]
    }
   ],
   "source": [
    "#basic mh algorithm\n",
    "function random_walk_mh(tr)\n",
    "    # make a random-walk update on scale variables\n",
    "    (tr, accepted) = mh(tr, proposal, ())\n",
    "    return tr\n",
    "end\n",
    ";"
   ]
  },
  {
   "cell_type": "code",
   "execution_count": 2,
   "id": "4f875da8-8bcb-47d7-a53f-b78626996a22",
   "metadata": {},
   "outputs": [
    {
     "ename": "LoadError",
     "evalue": "LoadError: UndefVarError: `@with_kw` not defined\nin expression starting at In[2]:1",
     "output_type": "error",
     "traceback": [
      "LoadError: UndefVarError: `@with_kw` not defined\nin expression starting at In[2]:1",
      ""
     ]
    }
   ],
   "source": [
    "function do_inference()\n",
    "    K = 10000\n",
    "    t, = generate(room, (), obs_image)\n",
    "    scores = Vector{Float64}(undef, K)\n",
    "    @showprogress for i in 1:K\n",
    "        t = random_walk_mh(t)\n",
    "        scores[i] = get_score(t)\n",
    "    end;\n",
    "    return scores, t\n",
    "end\n",
    ";"
   ]
  },
  {
   "cell_type": "code",
   "execution_count": 2,
   "id": "c4c0d629-c980-4524-b6bc-0b6f82e6782e",
   "metadata": {},
   "outputs": [
    {
     "ename": "LoadError",
     "evalue": "LoadError: UndefVarError: `@with_kw` not defined\nin expression starting at In[2]:1",
     "output_type": "error",
     "traceback": [
      "LoadError: UndefVarError: `@with_kw` not defined\nin expression starting at In[2]:1",
      ""
     ]
    }
   ],
   "source": [
    "(scores, trace) = do_inference()"
   ]
  },
  {
   "cell_type": "markdown",
   "id": "73b44654-5152-49f4-9cf1-f90f81fb0d8e",
   "metadata": {},
   "source": [
    "## Generating Stimulus Images ##"
   ]
  },
  {
   "cell_type": "markdown",
   "id": "258103d8-e608-4046-9b6a-d8d998c76693",
   "metadata": {},
   "source": [
    "## Unfolding (Inference of Latent Parameters for Stimuli and Recall of Memory) ##"
   ]
  },
  {
   "cell_type": "code",
   "execution_count": 2,
   "id": "445bf68c-f3ad-492d-a16b-1efb5e7c41d6",
   "metadata": {},
   "outputs": [
    {
     "ename": "LoadError",
     "evalue": "LoadError: UndefVarError: `@with_kw` not defined\nin expression starting at In[2]:1",
     "output_type": "error",
     "traceback": [
      "LoadError: UndefVarError: `@with_kw` not defined\nin expression starting at In[2]:1",
      ""
     ]
    }
   ],
   "source": [
    "struct Memory_State\n",
    "    current_memory::Int64\n",
    "    latent_memories::Matrix{Float64}\n",
    "    consolidation::Vector{Float64}\n",
    "end"
   ]
  },
  {
   "cell_type": "code",
   "execution_count": 1,
   "id": "fe512908-2915-46b8-89d1-f0a879419b55",
   "metadata": {},
   "outputs": [
    {
     "ename": "LoadError",
     "evalue": "LoadError: UndefVarError: `@with_kw` not defined\nin expression starting at In[1]:1",
     "output_type": "error",
     "traceback": [
      "LoadError: UndefVarError: `@with_kw` not defined\nin expression starting at In[1]:1",
      ""
     ]
    }
   ],
   "source": [
    "function reset_consolidation_vector!(m_state::Memory_State)\n",
    "    fill!(m_state.consolidation_vector, 1.0)\n",
    "end"
   ]
  },
  {
   "cell_type": "code",
   "execution_count": 1,
   "id": "cf15d65f-2f69-4a4a-9423-27228fa2499a",
   "metadata": {},
   "outputs": [
    {
     "ename": "LoadError",
     "evalue": "LoadError: UndefVarError: `@with_kw` not defined\nin expression starting at In[1]:1",
     "output_type": "error",
     "traceback": [
      "LoadError: UndefVarError: `@with_kw` not defined\nin expression starting at In[1]:1",
      ""
     ]
    }
   ],
   "source": [
    "function add_noise!(matrix, row_index, noise_level)\n",
    "    row = view(matrix, row_index, :)\n",
    "\n",
    "    for i in eachindex(row)\n",
    "        noise = (rand() * 0.2 - 0.1) * noise_level * row[i] \n",
    "        row[i] += noise\n",
    "    end\n",
    "end\n",
    "\n",
    "\n",
    "function draw_consolidation_vector!(m_state::Memory_State)\n",
    "    fill!(m_state.consolidation_vector, 1.0)\n",
    "end"
   ]
  },
  {
   "cell_type": "code",
   "execution_count": 4,
   "id": "a36287ab-84bf-46a0-a7f2-5b5d236e7232",
   "metadata": {},
   "outputs": [
    {
     "name": "stderr",
     "output_type": "stream",
     "text": [
      "\u001b[32m\u001b[1m  Activating\u001b[22m\u001b[39m project at `~/psyc261`\n",
      "\u001b[32m\u001b[1m   Resolving\u001b[22m\u001b[39m package versions...\n",
      "\u001b[32m\u001b[1m  No Changes\u001b[22m\u001b[39m to `~/psyc261/Project.toml`\n",
      "\u001b[32m\u001b[1m  No Changes\u001b[22m\u001b[39m to `~/psyc261/Manifest.toml`\n"
     ]
    },
    {
     "ename": "LoadError",
     "evalue": "PyError (PyImport_ImportModule\n\nThe Python package numpy could not be imported by pyimport. Usually this means\nthat you did not install numpy in the Python version being used by PyCall.\n\nPyCall is currently configured to use the Python version at:\n\n/opt/conda/bin/python3\n\nand you should use whatever mechanism you usually use (apt-get, pip, conda,\netcetera) to install the Python package containing the numpy module.\n\nOne alternative is to re-configure PyCall to use a different Python\nversion on your system: set ENV[\"PYTHON\"] to the path/name of the python\nexecutable you want to use, run Pkg.build(\"PyCall\"), and re-launch Julia.\n\nAnother alternative is to configure PyCall to use a Julia-specific Python\ndistribution via the Conda.jl package (which installs a private Anaconda\nPython distribution), which has the advantage that packages can be installed\nand kept up-to-date via Julia.  As explained in the PyCall documentation,\nset ENV[\"PYTHON\"]=\"\", run Pkg.build(\"PyCall\"), and re-launch Julia. Then,\nTo install the numpy module, you can use `pyimport_conda(\"numpy\", PKG)`,\nwhere PKG is the Anaconda package that contains the module numpy,\nor alternatively you can use the Conda package directly (via\n`using Conda` followed by `Conda.add` etcetera).\n\n) <class 'ModuleNotFoundError'>\nModuleNotFoundError(\"No module named 'numpy'\")\n",
     "output_type": "error",
     "traceback": [
      "PyError (PyImport_ImportModule\n\nThe Python package numpy could not be imported by pyimport. Usually this means\nthat you did not install numpy in the Python version being used by PyCall.\n\nPyCall is currently configured to use the Python version at:\n\n/opt/conda/bin/python3\n\nand you should use whatever mechanism you usually use (apt-get, pip, conda,\netcetera) to install the Python package containing the numpy module.\n\nOne alternative is to re-configure PyCall to use a different Python\nversion on your system: set ENV[\"PYTHON\"] to the path/name of the python\nexecutable you want to use, run Pkg.build(\"PyCall\"), and re-launch Julia.\n\nAnother alternative is to configure PyCall to use a Julia-specific Python\ndistribution via the Conda.jl package (which installs a private Anaconda\nPython distribution), which has the advantage that packages can be installed\nand kept up-to-date via Julia.  As explained in the PyCall documentation,\nset ENV[\"PYTHON\"]=\"\", run Pkg.build(\"PyCall\"), and re-launch Julia. Then,\nTo install the numpy module, you can use `pyimport_conda(\"numpy\", PKG)`,\nwhere PKG is the Anaconda package that contains the module numpy,\nor alternatively you can use the Conda package directly (via\n`using Conda` followed by `Conda.add` etcetera).\n\n) <class 'ModuleNotFoundError'>\nModuleNotFoundError(\"No module named 'numpy'\")\n",
      "",
      "Stacktrace:",
      " [1] pyimport(name::String)",
      "   @ PyCall /opt/julia/packages/PyCall/KLzIO/src/PyCall.jl:558",
      " [2] top-level scope",
      "   @ In[4]:11"
     ]
    }
   ],
   "source": [
    "function consolidate!(m_state::Memory_State, memory_recalled::Int64, recall_noise::Float64)\n",
    "    m_state.current_memory = memory_recalled\n",
    "    m_state.consolidation_vector[m_state.current_memory] = m_state.consolidation_vector[m_state.current_memory] + 1\n",
    "    add_noise!(m_state.latent_memories, memory_recalled, recall_noise)\n",
    "end"
   ]
  },
  {
   "cell_type": "code",
   "execution_count": null,
   "id": "c7c54a05-9809-4b2b-a145-916fc7e0cd72",
   "metadata": {},
   "outputs": [],
   "source": [
    "function get_similar_memory(matrix, stimulus_vector, cons_factor)\n",
    "    distances = [(sum(abs.(row .- stimulus_vector))) for row in eachrow(matrix)]\n",
    "    remembered = distances/cons_factor\n",
    "    memory =  draw(softmax(remembered))\n",
    "    return memory\n",
    "end\n",
    "\n",
    " function recall_memory(memory_state::Memory_State, stimulus_vector::Float64)\n",
    "        prob_vector = softmax(memory_state.consolidation)\n",
    "        recalled_memory = get_similar_memory(memory_state.latent_memories, stimulus_vector, prob_vector)\n",
    "        return recalled_memory\n",
    " end\n"
   ]
  },
  {
   "cell_type": "code",
   "execution_count": null,
   "id": "b493e72a-c478-4cc0-be42-f77dd56e6751",
   "metadata": {},
   "outputs": [],
   "source": [
    "@gen (static) function kernel(t::Int, prev_memory_state::Memory_State, recall_noise::Float64)\n",
    "    stim_vector = do_inference(image::scene)\n",
    "    memory_recalled = recall_memory(prev_memory_state, stim_vector)\n",
    "    next_state = consolidate!(prev_memory_state, memory_recalled, recall_noise)\n",
    "    return next_state\n",
    "end\n",
    "\n",
    "chain = Gen.Unfold(kernel)\n"
   ]
  },
  {
   "cell_type": "code",
   "execution_count": null,
   "id": "29ece270-e6e9-474c-8993-ce44ae25b5a1",
   "metadata": {},
   "outputs": [],
   "source": [
    "(trace, _) = Gen.generate(unfold_model, (200,))\n",
    "Gen.get_choices(trace)"
   ]
  }
 ],
 "metadata": {
  "kernelspec": {
   "display_name": "Julia 1.9.3",
   "language": "julia",
   "name": "julia-1.9"
  },
  "language_info": {
   "file_extension": ".jl",
   "mimetype": "application/julia",
   "name": "julia",
   "version": "1.9.3"
  }
 },
 "nbformat": 4,
 "nbformat_minor": 5
}
